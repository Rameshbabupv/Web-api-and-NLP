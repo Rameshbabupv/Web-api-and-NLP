{
 "cells": [
  {
   "cell_type": "markdown",
   "metadata": {},
   "source": [
    "# Project -3 "
   ]
  },
  {
   "cell_type": "code",
   "execution_count": 29,
   "metadata": {},
   "outputs": [],
   "source": [
    "### import \n",
    "import pandas as pd\n",
    "import requests \n",
    "import json \n",
    "import csv \n",
    "import time\n",
    "import datetime"
   ]
  },
  {
   "cell_type": "code",
   "execution_count": 30,
   "metadata": {},
   "outputs": [],
   "source": [
    "url = 'https://api.pushshift.io/reddit/search/submission'"
   ]
  },
  {
   "cell_type": "code",
   "execution_count": 31,
   "metadata": {},
   "outputs": [],
   "source": [
    "# params = {\n",
    "#     'subreddit' : 'boardgames',\n",
    "#      'size' : 101,\n",
    "#     after \n",
    "\n",
    "# }\n",
    "\n",
    "params_askphilosophy = {\n",
    "    'subreddit' : 'askphilosophy',\n",
    "     'size' : '500',\n",
    "    'before' :'300d'\n",
    "\n",
    "}\n",
    "params_changemyview = {\n",
    "    'subreddit' : 'changemyview',\n",
    "     'size' : '500',\n",
    "    'before' :'300d'\n",
    "\n",
    "}"
   ]
  },
  {
   "cell_type": "code",
   "execution_count": 32,
   "metadata": {},
   "outputs": [],
   "source": [
    "params_askphilosophy = {\n",
    "    'subreddit' : 'askphilosophy',\n",
    "     'size' : '500',\n",
    "    'after' :'1584582182'\n",
    "\n",
    "}\n",
    "params_changemyview = {\n",
    "    'subreddit' : 'changemyview',\n",
    "     'size' : '500',\n",
    "    'after' :'1584582453'\n",
    "\n",
    "}"
   ]
  },
  {
   "cell_type": "code",
   "execution_count": 33,
   "metadata": {},
   "outputs": [],
   "source": [
    "res_askphilosophy = requests.get(url, params_askphilosophy)\n",
    "res_changemyview = requests.get(url, params_changemyview)"
   ]
  },
  {
   "cell_type": "code",
   "execution_count": 34,
   "metadata": {},
   "outputs": [
    {
     "data": {
      "text/plain": [
       "(200, 200)"
      ]
     },
     "execution_count": 34,
     "metadata": {},
     "output_type": "execute_result"
    }
   ],
   "source": [
    "res_askphilosophy.status_code, res_changemyview.status_code"
   ]
  },
  {
   "cell_type": "code",
   "execution_count": 35,
   "metadata": {},
   "outputs": [],
   "source": [
    "#data = res.json()\n",
    "data_askphilosophy = res_askphilosophy.json()\n",
    "data_changemyview = res_changemyview.json()"
   ]
  },
  {
   "cell_type": "code",
   "execution_count": 36,
   "metadata": {},
   "outputs": [],
   "source": [
    "post_askphilosophy = data_askphilosophy['data']\n",
    "post_changemyview = data_changemyview['data']"
   ]
  },
  {
   "cell_type": "code",
   "execution_count": 37,
   "metadata": {},
   "outputs": [
    {
     "data": {
      "text/plain": [
       "(100, 100)"
      ]
     },
     "execution_count": 37,
     "metadata": {},
     "output_type": "execute_result"
    }
   ],
   "source": [
    "len(post_askphilosophy), len(post_changemyview)"
   ]
  },
  {
   "cell_type": "code",
   "execution_count": 38,
   "metadata": {},
   "outputs": [],
   "source": [
    "df_askphilosophy = pd.DataFrame(post_askphilosophy)\n",
    "df_changemyview = pd.DataFrame(post_changemyview)"
   ]
  },
  {
   "cell_type": "code",
   "execution_count": 39,
   "metadata": {},
   "outputs": [
    {
     "data": {
      "text/plain": [
       "Index(['all_awardings', 'allow_live_comments', 'author',\n",
       "       'author_flair_background_color', 'author_flair_css_class',\n",
       "       'author_flair_richtext', 'author_flair_template_id',\n",
       "       'author_flair_text', 'author_flair_text_color', 'author_flair_type',\n",
       "       'author_fullname', 'author_patreon_flair', 'author_premium', 'awarders',\n",
       "       'can_mod_post', 'contest_mode', 'created_utc', 'domain', 'edited',\n",
       "       'full_link', 'gildings', 'id', 'is_crosspostable', 'is_meta',\n",
       "       'is_original_content', 'is_reddit_media_domain', 'is_robot_indexable',\n",
       "       'is_self', 'is_video', 'link_flair_background_color',\n",
       "       'link_flair_richtext', 'link_flair_text_color', 'link_flair_type',\n",
       "       'locked', 'media_only', 'no_follow', 'num_comments', 'num_crossposts',\n",
       "       'over_18', 'parent_whitelist_status', 'permalink', 'pinned',\n",
       "       'post_hint', 'preview', 'pwls', 'removed_by_category', 'retrieved_on',\n",
       "       'score', 'selftext', 'send_replies', 'spoiler', 'stickied', 'subreddit',\n",
       "       'subreddit_id', 'subreddit_subscribers', 'subreddit_type', 'thumbnail',\n",
       "       'title', 'total_awards_received', 'url', 'whitelist_status', 'wls'],\n",
       "      dtype='object')"
      ]
     },
     "execution_count": 39,
     "metadata": {},
     "output_type": "execute_result"
    }
   ],
   "source": [
    "df_askphilosophy.columns.sort_values()"
   ]
  },
  {
   "cell_type": "code",
   "execution_count": 40,
   "metadata": {},
   "outputs": [
    {
     "data": {
      "text/html": [
       "<div>\n",
       "<style scoped>\n",
       "    .dataframe tbody tr th:only-of-type {\n",
       "        vertical-align: middle;\n",
       "    }\n",
       "\n",
       "    .dataframe tbody tr th {\n",
       "        vertical-align: top;\n",
       "    }\n",
       "\n",
       "    .dataframe thead th {\n",
       "        text-align: right;\n",
       "    }\n",
       "</style>\n",
       "<table border=\"1\" class=\"dataframe\">\n",
       "  <thead>\n",
       "    <tr style=\"text-align: right;\">\n",
       "      <th></th>\n",
       "      <th>subreddit</th>\n",
       "      <th>selftext</th>\n",
       "      <th>title</th>\n",
       "      <th>created_utc</th>\n",
       "      <th>full_link</th>\n",
       "      <th>url</th>\n",
       "      <th>total_awards_received</th>\n",
       "    </tr>\n",
       "  </thead>\n",
       "  <tbody>\n",
       "    <tr>\n",
       "      <th>0</th>\n",
       "      <td>askphilosophy</td>\n",
       "      <td>Do I understand him correctly?</td>\n",
       "      <td>As I understand it, Derrida said words and sig...</td>\n",
       "      <td>1584583608</td>\n",
       "      <td>https://www.reddit.com/r/askphilosophy/comment...</td>\n",
       "      <td>https://www.reddit.com/r/askphilosophy/comment...</td>\n",
       "      <td>0</td>\n",
       "    </tr>\n",
       "    <tr>\n",
       "      <th>1</th>\n",
       "      <td>askphilosophy</td>\n",
       "      <td></td>\n",
       "      <td>Is there such thing as objective morality?</td>\n",
       "      <td>1584585426</td>\n",
       "      <td>https://www.reddit.com/r/askphilosophy/comment...</td>\n",
       "      <td>https://www.reddit.com/r/askphilosophy/comment...</td>\n",
       "      <td>0</td>\n",
       "    </tr>\n",
       "    <tr>\n",
       "      <th>2</th>\n",
       "      <td>askphilosophy</td>\n",
       "      <td></td>\n",
       "      <td>What is more harmful, complete trust in everyt...</td>\n",
       "      <td>1584585943</td>\n",
       "      <td>https://www.reddit.com/r/askphilosophy/comment...</td>\n",
       "      <td>https://www.reddit.com/r/askphilosophy/comment...</td>\n",
       "      <td>0</td>\n",
       "    </tr>\n",
       "    <tr>\n",
       "      <th>3</th>\n",
       "      <td>askphilosophy</td>\n",
       "      <td>[removed]</td>\n",
       "      <td>Reading list for A/H Philosophy</td>\n",
       "      <td>1584593161</td>\n",
       "      <td>https://www.reddit.com/r/askphilosophy/comment...</td>\n",
       "      <td>https://www.reddit.com/r/askphilosophy/comment...</td>\n",
       "      <td>0</td>\n",
       "    </tr>\n",
       "    <tr>\n",
       "      <th>4</th>\n",
       "      <td>askphilosophy</td>\n",
       "      <td>Say for instance you post an absurd dark meme ...</td>\n",
       "      <td>can absurdist dark memes be morally justified?</td>\n",
       "      <td>1584595033</td>\n",
       "      <td>https://www.reddit.com/r/askphilosophy/comment...</td>\n",
       "      <td>https://www.reddit.com/r/askphilosophy/comment...</td>\n",
       "      <td>0</td>\n",
       "    </tr>\n",
       "    <tr>\n",
       "      <th>...</th>\n",
       "      <td>...</td>\n",
       "      <td>...</td>\n",
       "      <td>...</td>\n",
       "      <td>...</td>\n",
       "      <td>...</td>\n",
       "      <td>...</td>\n",
       "      <td>...</td>\n",
       "    </tr>\n",
       "    <tr>\n",
       "      <th>95</th>\n",
       "      <td>askphilosophy</td>\n",
       "      <td>I am a beginner to philosophy. I only just beg...</td>\n",
       "      <td>Can one extend Plato’s philosophy to justify t...</td>\n",
       "      <td>1584766566</td>\n",
       "      <td>https://www.reddit.com/r/askphilosophy/comment...</td>\n",
       "      <td>https://www.reddit.com/r/askphilosophy/comment...</td>\n",
       "      <td>0</td>\n",
       "    </tr>\n",
       "    <tr>\n",
       "      <th>96</th>\n",
       "      <td>askphilosophy</td>\n",
       "      <td>I read and enjoyed Martha Nussbaum's article *...</td>\n",
       "      <td>Does anyone know of any good articles interpre...</td>\n",
       "      <td>1584775339</td>\n",
       "      <td>https://www.reddit.com/r/askphilosophy/comment...</td>\n",
       "      <td>https://www.reddit.com/r/askphilosophy/comment...</td>\n",
       "      <td>0</td>\n",
       "    </tr>\n",
       "    <tr>\n",
       "      <th>97</th>\n",
       "      <td>askphilosophy</td>\n",
       "      <td>For instance, imagine I would want to give to ...</td>\n",
       "      <td>Do we have an obligation when deciding between...</td>\n",
       "      <td>1584778352</td>\n",
       "      <td>https://www.reddit.com/r/askphilosophy/comment...</td>\n",
       "      <td>https://www.reddit.com/r/askphilosophy/comment...</td>\n",
       "      <td>0</td>\n",
       "    </tr>\n",
       "    <tr>\n",
       "      <th>98</th>\n",
       "      <td>askphilosophy</td>\n",
       "      <td>So, I've read most of Kenny's History of Weste...</td>\n",
       "      <td>Amateur in philosophy and Philosophical Invest...</td>\n",
       "      <td>1584778469</td>\n",
       "      <td>https://www.reddit.com/r/askphilosophy/comment...</td>\n",
       "      <td>https://www.reddit.com/r/askphilosophy/comment...</td>\n",
       "      <td>0</td>\n",
       "    </tr>\n",
       "    <tr>\n",
       "      <th>99</th>\n",
       "      <td>askphilosophy</td>\n",
       "      <td></td>\n",
       "      <td>What did Gilles Deleuze mean when he said \"The...</td>\n",
       "      <td>1584779209</td>\n",
       "      <td>https://www.reddit.com/r/askphilosophy/comment...</td>\n",
       "      <td>https://www.reddit.com/r/askphilosophy/comment...</td>\n",
       "      <td>0</td>\n",
       "    </tr>\n",
       "  </tbody>\n",
       "</table>\n",
       "<p>100 rows × 7 columns</p>\n",
       "</div>"
      ],
      "text/plain": [
       "        subreddit                                           selftext  \\\n",
       "0   askphilosophy                     Do I understand him correctly?   \n",
       "1   askphilosophy                                                      \n",
       "2   askphilosophy                                                      \n",
       "3   askphilosophy                                          [removed]   \n",
       "4   askphilosophy  Say for instance you post an absurd dark meme ...   \n",
       "..            ...                                                ...   \n",
       "95  askphilosophy  I am a beginner to philosophy. I only just beg...   \n",
       "96  askphilosophy  I read and enjoyed Martha Nussbaum's article *...   \n",
       "97  askphilosophy  For instance, imagine I would want to give to ...   \n",
       "98  askphilosophy  So, I've read most of Kenny's History of Weste...   \n",
       "99  askphilosophy                                                      \n",
       "\n",
       "                                                title  created_utc  \\\n",
       "0   As I understand it, Derrida said words and sig...   1584583608   \n",
       "1          Is there such thing as objective morality?   1584585426   \n",
       "2   What is more harmful, complete trust in everyt...   1584585943   \n",
       "3                     Reading list for A/H Philosophy   1584593161   \n",
       "4      can absurdist dark memes be morally justified?   1584595033   \n",
       "..                                                ...          ...   \n",
       "95  Can one extend Plato’s philosophy to justify t...   1584766566   \n",
       "96  Does anyone know of any good articles interpre...   1584775339   \n",
       "97  Do we have an obligation when deciding between...   1584778352   \n",
       "98  Amateur in philosophy and Philosophical Invest...   1584778469   \n",
       "99  What did Gilles Deleuze mean when he said \"The...   1584779209   \n",
       "\n",
       "                                            full_link  \\\n",
       "0   https://www.reddit.com/r/askphilosophy/comment...   \n",
       "1   https://www.reddit.com/r/askphilosophy/comment...   \n",
       "2   https://www.reddit.com/r/askphilosophy/comment...   \n",
       "3   https://www.reddit.com/r/askphilosophy/comment...   \n",
       "4   https://www.reddit.com/r/askphilosophy/comment...   \n",
       "..                                                ...   \n",
       "95  https://www.reddit.com/r/askphilosophy/comment...   \n",
       "96  https://www.reddit.com/r/askphilosophy/comment...   \n",
       "97  https://www.reddit.com/r/askphilosophy/comment...   \n",
       "98  https://www.reddit.com/r/askphilosophy/comment...   \n",
       "99  https://www.reddit.com/r/askphilosophy/comment...   \n",
       "\n",
       "                                                  url  total_awards_received  \n",
       "0   https://www.reddit.com/r/askphilosophy/comment...                      0  \n",
       "1   https://www.reddit.com/r/askphilosophy/comment...                      0  \n",
       "2   https://www.reddit.com/r/askphilosophy/comment...                      0  \n",
       "3   https://www.reddit.com/r/askphilosophy/comment...                      0  \n",
       "4   https://www.reddit.com/r/askphilosophy/comment...                      0  \n",
       "..                                                ...                    ...  \n",
       "95  https://www.reddit.com/r/askphilosophy/comment...                      0  \n",
       "96  https://www.reddit.com/r/askphilosophy/comment...                      0  \n",
       "97  https://www.reddit.com/r/askphilosophy/comment...                      0  \n",
       "98  https://www.reddit.com/r/askphilosophy/comment...                      0  \n",
       "99  https://www.reddit.com/r/askphilosophy/comment...                      0  \n",
       "\n",
       "[100 rows x 7 columns]"
      ]
     },
     "execution_count": 40,
     "metadata": {},
     "output_type": "execute_result"
    }
   ],
   "source": [
    "df_askphilosophy[['subreddit', 'selftext', 'title', 'created_utc', 'full_link','url', 'total_awards_received']]"
   ]
  },
  {
   "cell_type": "code",
   "execution_count": 13,
   "metadata": {},
   "outputs": [
    {
     "data": {
      "text/plain": [
       "0     https://www.reddit.com/r/askphilosophy/comment...\n",
       "1     https://www.reddit.com/r/askphilosophy/comment...\n",
       "2     https://www.reddit.com/r/askphilosophy/comment...\n",
       "3     https://www.reddit.com/r/askphilosophy/comment...\n",
       "4     https://www.reddit.com/r/askphilosophy/comment...\n",
       "                            ...                        \n",
       "95    https://www.reddit.com/r/askphilosophy/comment...\n",
       "96    https://www.reddit.com/r/askphilosophy/comment...\n",
       "97    https://www.reddit.com/r/askphilosophy/comment...\n",
       "98    https://www.reddit.com/r/askphilosophy/comment...\n",
       "99    https://www.reddit.com/r/askphilosophy/comment...\n",
       "Name: url, Length: 100, dtype: object"
      ]
     },
     "execution_count": 13,
     "metadata": {},
     "output_type": "execute_result"
    }
   ],
   "source": [
    "df_askphilosophy['url']"
   ]
  },
  {
   "cell_type": "code",
   "execution_count": 14,
   "metadata": {},
   "outputs": [
    {
     "data": {
      "text/plain": [
       "url          https://www.reddit.com/r/askphilosophy/comment...\n",
       "title        How do we reconcile with the self-undermining ...\n",
       "subreddit                                        askphilosophy\n",
       "Name: 5, dtype: object"
      ]
     },
     "execution_count": 14,
     "metadata": {},
     "output_type": "execute_result"
    }
   ],
   "source": [
    "df_askphilosophy.loc[5, ['url', 'title', 'subreddit']]"
   ]
  },
  {
   "cell_type": "code",
   "execution_count": 15,
   "metadata": {},
   "outputs": [
    {
     "data": {
      "text/html": [
       "<div>\n",
       "<style scoped>\n",
       "    .dataframe tbody tr th:only-of-type {\n",
       "        vertical-align: middle;\n",
       "    }\n",
       "\n",
       "    .dataframe tbody tr th {\n",
       "        vertical-align: top;\n",
       "    }\n",
       "\n",
       "    .dataframe thead th {\n",
       "        text-align: right;\n",
       "    }\n",
       "</style>\n",
       "<table border=\"1\" class=\"dataframe\">\n",
       "  <thead>\n",
       "    <tr style=\"text-align: right;\">\n",
       "      <th></th>\n",
       "      <th>subreddit</th>\n",
       "      <th>selftext</th>\n",
       "      <th>title</th>\n",
       "      <th>created_utc</th>\n",
       "    </tr>\n",
       "  </thead>\n",
       "  <tbody>\n",
       "    <tr>\n",
       "      <th>0</th>\n",
       "      <td>changemyview</td>\n",
       "      <td>NaN</td>\n",
       "      <td>cmv: The Nintendo Wii is the best video game c...</td>\n",
       "      <td>1584583125</td>\n",
       "    </tr>\n",
       "    <tr>\n",
       "      <th>1</th>\n",
       "      <td>changemyview</td>\n",
       "      <td>[removed]</td>\n",
       "      <td>CMV: The Nintendo Wii is the best video game c...</td>\n",
       "      <td>1584583451</td>\n",
       "    </tr>\n",
       "    <tr>\n",
       "      <th>2</th>\n",
       "      <td>changemyview</td>\n",
       "      <td>[removed]</td>\n",
       "      <td>cmv: Lawyers rule the world</td>\n",
       "      <td>1584584080</td>\n",
       "    </tr>\n",
       "    <tr>\n",
       "      <th>3</th>\n",
       "      <td>changemyview</td>\n",
       "      <td>The way I see it, every argument for a fetus/u...</td>\n",
       "      <td>CMV: There is not a rationally consistent abor...</td>\n",
       "      <td>1584584561</td>\n",
       "    </tr>\n",
       "    <tr>\n",
       "      <th>4</th>\n",
       "      <td>changemyview</td>\n",
       "      <td>die.\\n\\nI've shopped this theory around, and I...</td>\n",
       "      <td>CMV: In the Ballad of Buster Scruggs, the quad...</td>\n",
       "      <td>1584585908</td>\n",
       "    </tr>\n",
       "    <tr>\n",
       "      <th>...</th>\n",
       "      <td>...</td>\n",
       "      <td>...</td>\n",
       "      <td>...</td>\n",
       "      <td>...</td>\n",
       "    </tr>\n",
       "    <tr>\n",
       "      <th>95</th>\n",
       "      <td>changemyview</td>\n",
       "      <td>[removed]</td>\n",
       "      <td>After this pandemic there is going to be a big...</td>\n",
       "      <td>1584666189</td>\n",
       "    </tr>\n",
       "    <tr>\n",
       "      <th>96</th>\n",
       "      <td>changemyview</td>\n",
       "      <td>[removed]</td>\n",
       "      <td>Change my view: with so many people bored and ...</td>\n",
       "      <td>1584666501</td>\n",
       "    </tr>\n",
       "    <tr>\n",
       "      <th>97</th>\n",
       "      <td>changemyview</td>\n",
       "      <td>[removed]</td>\n",
       "      <td>CMV: With so many people bored and or jobless ...</td>\n",
       "      <td>1584666614</td>\n",
       "    </tr>\n",
       "    <tr>\n",
       "      <th>98</th>\n",
       "      <td>changemyview</td>\n",
       "      <td>In the last couple times that I've been able t...</td>\n",
       "      <td>CMV: If people voted for who they actually wan...</td>\n",
       "      <td>1584666876</td>\n",
       "    </tr>\n",
       "    <tr>\n",
       "      <th>99</th>\n",
       "      <td>changemyview</td>\n",
       "      <td>[removed]</td>\n",
       "      <td>CMV: Picasso was the first weaboo</td>\n",
       "      <td>1584668054</td>\n",
       "    </tr>\n",
       "  </tbody>\n",
       "</table>\n",
       "<p>100 rows × 4 columns</p>\n",
       "</div>"
      ],
      "text/plain": [
       "       subreddit                                           selftext  \\\n",
       "0   changemyview                                                NaN   \n",
       "1   changemyview                                          [removed]   \n",
       "2   changemyview                                          [removed]   \n",
       "3   changemyview  The way I see it, every argument for a fetus/u...   \n",
       "4   changemyview  die.\\n\\nI've shopped this theory around, and I...   \n",
       "..           ...                                                ...   \n",
       "95  changemyview                                          [removed]   \n",
       "96  changemyview                                          [removed]   \n",
       "97  changemyview                                          [removed]   \n",
       "98  changemyview  In the last couple times that I've been able t...   \n",
       "99  changemyview                                          [removed]   \n",
       "\n",
       "                                                title  created_utc  \n",
       "0   cmv: The Nintendo Wii is the best video game c...   1584583125  \n",
       "1   CMV: The Nintendo Wii is the best video game c...   1584583451  \n",
       "2                         cmv: Lawyers rule the world   1584584080  \n",
       "3   CMV: There is not a rationally consistent abor...   1584584561  \n",
       "4   CMV: In the Ballad of Buster Scruggs, the quad...   1584585908  \n",
       "..                                                ...          ...  \n",
       "95  After this pandemic there is going to be a big...   1584666189  \n",
       "96  Change my view: with so many people bored and ...   1584666501  \n",
       "97  CMV: With so many people bored and or jobless ...   1584666614  \n",
       "98  CMV: If people voted for who they actually wan...   1584666876  \n",
       "99                  CMV: Picasso was the first weaboo   1584668054  \n",
       "\n",
       "[100 rows x 4 columns]"
      ]
     },
     "execution_count": 15,
     "metadata": {},
     "output_type": "execute_result"
    }
   ],
   "source": [
    "df_changemyview[['subreddit', 'selftext', 'title', 'created_utc']]"
   ]
  },
  {
   "cell_type": "code",
   "execution_count": 16,
   "metadata": {},
   "outputs": [
    {
     "data": {
      "text/html": [
       "<div>\n",
       "<style scoped>\n",
       "    .dataframe tbody tr th:only-of-type {\n",
       "        vertical-align: middle;\n",
       "    }\n",
       "\n",
       "    .dataframe tbody tr th {\n",
       "        vertical-align: top;\n",
       "    }\n",
       "\n",
       "    .dataframe thead th {\n",
       "        text-align: right;\n",
       "    }\n",
       "</style>\n",
       "<table border=\"1\" class=\"dataframe\">\n",
       "  <thead>\n",
       "    <tr style=\"text-align: right;\">\n",
       "      <th></th>\n",
       "      <th>subreddit</th>\n",
       "      <th>selftext</th>\n",
       "      <th>title</th>\n",
       "      <th>created_utc</th>\n",
       "    </tr>\n",
       "  </thead>\n",
       "  <tbody>\n",
       "    <tr>\n",
       "      <th>0</th>\n",
       "      <td>askphilosophy</td>\n",
       "      <td>Do I understand him correctly?</td>\n",
       "      <td>As I understand it, Derrida said words and sig...</td>\n",
       "      <td>1584583608</td>\n",
       "    </tr>\n",
       "    <tr>\n",
       "      <th>1</th>\n",
       "      <td>askphilosophy</td>\n",
       "      <td></td>\n",
       "      <td>Is there such thing as objective morality?</td>\n",
       "      <td>1584585426</td>\n",
       "    </tr>\n",
       "    <tr>\n",
       "      <th>2</th>\n",
       "      <td>askphilosophy</td>\n",
       "      <td></td>\n",
       "      <td>What is more harmful, complete trust in everyt...</td>\n",
       "      <td>1584585943</td>\n",
       "    </tr>\n",
       "    <tr>\n",
       "      <th>3</th>\n",
       "      <td>askphilosophy</td>\n",
       "      <td>[removed]</td>\n",
       "      <td>Reading list for A/H Philosophy</td>\n",
       "      <td>1584593161</td>\n",
       "    </tr>\n",
       "    <tr>\n",
       "      <th>4</th>\n",
       "      <td>askphilosophy</td>\n",
       "      <td>Say for instance you post an absurd dark meme ...</td>\n",
       "      <td>can absurdist dark memes be morally justified?</td>\n",
       "      <td>1584595033</td>\n",
       "    </tr>\n",
       "    <tr>\n",
       "      <th>...</th>\n",
       "      <td>...</td>\n",
       "      <td>...</td>\n",
       "      <td>...</td>\n",
       "      <td>...</td>\n",
       "    </tr>\n",
       "    <tr>\n",
       "      <th>95</th>\n",
       "      <td>askphilosophy</td>\n",
       "      <td>I am a beginner to philosophy. I only just beg...</td>\n",
       "      <td>Can one extend Plato’s philosophy to justify t...</td>\n",
       "      <td>1584766566</td>\n",
       "    </tr>\n",
       "    <tr>\n",
       "      <th>96</th>\n",
       "      <td>askphilosophy</td>\n",
       "      <td>I read and enjoyed Martha Nussbaum's article *...</td>\n",
       "      <td>Does anyone know of any good articles interpre...</td>\n",
       "      <td>1584775339</td>\n",
       "    </tr>\n",
       "    <tr>\n",
       "      <th>97</th>\n",
       "      <td>askphilosophy</td>\n",
       "      <td>For instance, imagine I would want to give to ...</td>\n",
       "      <td>Do we have an obligation when deciding between...</td>\n",
       "      <td>1584778352</td>\n",
       "    </tr>\n",
       "    <tr>\n",
       "      <th>98</th>\n",
       "      <td>askphilosophy</td>\n",
       "      <td>So, I've read most of Kenny's History of Weste...</td>\n",
       "      <td>Amateur in philosophy and Philosophical Invest...</td>\n",
       "      <td>1584778469</td>\n",
       "    </tr>\n",
       "    <tr>\n",
       "      <th>99</th>\n",
       "      <td>askphilosophy</td>\n",
       "      <td></td>\n",
       "      <td>What did Gilles Deleuze mean when he said \"The...</td>\n",
       "      <td>1584779209</td>\n",
       "    </tr>\n",
       "  </tbody>\n",
       "</table>\n",
       "<p>100 rows × 4 columns</p>\n",
       "</div>"
      ],
      "text/plain": [
       "        subreddit                                           selftext  \\\n",
       "0   askphilosophy                     Do I understand him correctly?   \n",
       "1   askphilosophy                                                      \n",
       "2   askphilosophy                                                      \n",
       "3   askphilosophy                                          [removed]   \n",
       "4   askphilosophy  Say for instance you post an absurd dark meme ...   \n",
       "..            ...                                                ...   \n",
       "95  askphilosophy  I am a beginner to philosophy. I only just beg...   \n",
       "96  askphilosophy  I read and enjoyed Martha Nussbaum's article *...   \n",
       "97  askphilosophy  For instance, imagine I would want to give to ...   \n",
       "98  askphilosophy  So, I've read most of Kenny's History of Weste...   \n",
       "99  askphilosophy                                                      \n",
       "\n",
       "                                                title  created_utc  \n",
       "0   As I understand it, Derrida said words and sig...   1584583608  \n",
       "1          Is there such thing as objective morality?   1584585426  \n",
       "2   What is more harmful, complete trust in everyt...   1584585943  \n",
       "3                     Reading list for A/H Philosophy   1584593161  \n",
       "4      can absurdist dark memes be morally justified?   1584595033  \n",
       "..                                                ...          ...  \n",
       "95  Can one extend Plato’s philosophy to justify t...   1584766566  \n",
       "96  Does anyone know of any good articles interpre...   1584775339  \n",
       "97  Do we have an obligation when deciding between...   1584778352  \n",
       "98  Amateur in philosophy and Philosophical Invest...   1584778469  \n",
       "99  What did Gilles Deleuze mean when he said \"The...   1584779209  \n",
       "\n",
       "[100 rows x 4 columns]"
      ]
     },
     "execution_count": 16,
     "metadata": {},
     "output_type": "execute_result"
    }
   ],
   "source": [
    "df_askphilosophy[['subreddit', 'selftext', 'title', 'created_utc']]"
   ]
  },
  {
   "cell_type": "code",
   "execution_count": 17,
   "metadata": {},
   "outputs": [
    {
     "data": {
      "text/html": [
       "<div>\n",
       "<style scoped>\n",
       "    .dataframe tbody tr th:only-of-type {\n",
       "        vertical-align: middle;\n",
       "    }\n",
       "\n",
       "    .dataframe tbody tr th {\n",
       "        vertical-align: top;\n",
       "    }\n",
       "\n",
       "    .dataframe thead th {\n",
       "        text-align: right;\n",
       "    }\n",
       "</style>\n",
       "<table border=\"1\" class=\"dataframe\">\n",
       "  <thead>\n",
       "    <tr style=\"text-align: right;\">\n",
       "      <th></th>\n",
       "      <th>subreddit</th>\n",
       "      <th>selftext</th>\n",
       "      <th>title</th>\n",
       "      <th>created_utc</th>\n",
       "    </tr>\n",
       "  </thead>\n",
       "  <tbody>\n",
       "    <tr>\n",
       "      <th>0</th>\n",
       "      <td>changemyview</td>\n",
       "      <td>NaN</td>\n",
       "      <td>cmv: The Nintendo Wii is the best video game c...</td>\n",
       "      <td>1584583125</td>\n",
       "    </tr>\n",
       "    <tr>\n",
       "      <th>1</th>\n",
       "      <td>changemyview</td>\n",
       "      <td>[removed]</td>\n",
       "      <td>CMV: The Nintendo Wii is the best video game c...</td>\n",
       "      <td>1584583451</td>\n",
       "    </tr>\n",
       "    <tr>\n",
       "      <th>2</th>\n",
       "      <td>changemyview</td>\n",
       "      <td>[removed]</td>\n",
       "      <td>cmv: Lawyers rule the world</td>\n",
       "      <td>1584584080</td>\n",
       "    </tr>\n",
       "    <tr>\n",
       "      <th>3</th>\n",
       "      <td>changemyview</td>\n",
       "      <td>The way I see it, every argument for a fetus/u...</td>\n",
       "      <td>CMV: There is not a rationally consistent abor...</td>\n",
       "      <td>1584584561</td>\n",
       "    </tr>\n",
       "    <tr>\n",
       "      <th>4</th>\n",
       "      <td>changemyview</td>\n",
       "      <td>die.\\n\\nI've shopped this theory around, and I...</td>\n",
       "      <td>CMV: In the Ballad of Buster Scruggs, the quad...</td>\n",
       "      <td>1584585908</td>\n",
       "    </tr>\n",
       "    <tr>\n",
       "      <th>...</th>\n",
       "      <td>...</td>\n",
       "      <td>...</td>\n",
       "      <td>...</td>\n",
       "      <td>...</td>\n",
       "    </tr>\n",
       "    <tr>\n",
       "      <th>95</th>\n",
       "      <td>changemyview</td>\n",
       "      <td>[removed]</td>\n",
       "      <td>After this pandemic there is going to be a big...</td>\n",
       "      <td>1584666189</td>\n",
       "    </tr>\n",
       "    <tr>\n",
       "      <th>96</th>\n",
       "      <td>changemyview</td>\n",
       "      <td>[removed]</td>\n",
       "      <td>Change my view: with so many people bored and ...</td>\n",
       "      <td>1584666501</td>\n",
       "    </tr>\n",
       "    <tr>\n",
       "      <th>97</th>\n",
       "      <td>changemyview</td>\n",
       "      <td>[removed]</td>\n",
       "      <td>CMV: With so many people bored and or jobless ...</td>\n",
       "      <td>1584666614</td>\n",
       "    </tr>\n",
       "    <tr>\n",
       "      <th>98</th>\n",
       "      <td>changemyview</td>\n",
       "      <td>In the last couple times that I've been able t...</td>\n",
       "      <td>CMV: If people voted for who they actually wan...</td>\n",
       "      <td>1584666876</td>\n",
       "    </tr>\n",
       "    <tr>\n",
       "      <th>99</th>\n",
       "      <td>changemyview</td>\n",
       "      <td>[removed]</td>\n",
       "      <td>CMV: Picasso was the first weaboo</td>\n",
       "      <td>1584668054</td>\n",
       "    </tr>\n",
       "  </tbody>\n",
       "</table>\n",
       "<p>100 rows × 4 columns</p>\n",
       "</div>"
      ],
      "text/plain": [
       "       subreddit                                           selftext  \\\n",
       "0   changemyview                                                NaN   \n",
       "1   changemyview                                          [removed]   \n",
       "2   changemyview                                          [removed]   \n",
       "3   changemyview  The way I see it, every argument for a fetus/u...   \n",
       "4   changemyview  die.\\n\\nI've shopped this theory around, and I...   \n",
       "..           ...                                                ...   \n",
       "95  changemyview                                          [removed]   \n",
       "96  changemyview                                          [removed]   \n",
       "97  changemyview                                          [removed]   \n",
       "98  changemyview  In the last couple times that I've been able t...   \n",
       "99  changemyview                                          [removed]   \n",
       "\n",
       "                                                title  created_utc  \n",
       "0   cmv: The Nintendo Wii is the best video game c...   1584583125  \n",
       "1   CMV: The Nintendo Wii is the best video game c...   1584583451  \n",
       "2                         cmv: Lawyers rule the world   1584584080  \n",
       "3   CMV: There is not a rationally consistent abor...   1584584561  \n",
       "4   CMV: In the Ballad of Buster Scruggs, the quad...   1584585908  \n",
       "..                                                ...          ...  \n",
       "95  After this pandemic there is going to be a big...   1584666189  \n",
       "96  Change my view: with so many people bored and ...   1584666501  \n",
       "97  CMV: With so many people bored and or jobless ...   1584666614  \n",
       "98  CMV: If people voted for who they actually wan...   1584666876  \n",
       "99                  CMV: Picasso was the first weaboo   1584668054  \n",
       "\n",
       "[100 rows x 4 columns]"
      ]
     },
     "execution_count": 17,
     "metadata": {},
     "output_type": "execute_result"
    }
   ],
   "source": [
    "df_changemyview[['subreddit', 'selftext', 'title', 'created_utc']]"
   ]
  },
  {
   "cell_type": "code",
   "execution_count": 18,
   "metadata": {},
   "outputs": [
    {
     "data": {
      "text/plain": [
       "1584668054"
      ]
     },
     "execution_count": 18,
     "metadata": {},
     "output_type": "execute_result"
    }
   ],
   "source": [
    "df_changemyview['created_utc'].max(axis = 0) "
   ]
  },
  {
   "cell_type": "code",
   "execution_count": 19,
   "metadata": {},
   "outputs": [
    {
     "data": {
      "text/plain": [
       "1584779209"
      ]
     },
     "execution_count": 19,
     "metadata": {},
     "output_type": "execute_result"
    }
   ],
   "source": [
    "df_askphilosophy['created_utc'].max(axis = 0) "
   ]
  },
  {
   "cell_type": "code",
   "execution_count": 20,
   "metadata": {},
   "outputs": [
    {
     "data": {
      "text/plain": [
       "{'subreddit': 'askphilosophy', 'size': '500', 'after': '1584582182'}"
      ]
     },
     "execution_count": 20,
     "metadata": {},
     "output_type": "execute_result"
    }
   ],
   "source": [
    "params_askphilosophy"
   ]
  },
  {
   "cell_type": "code",
   "execution_count": 21,
   "metadata": {},
   "outputs": [
    {
     "data": {
      "text/plain": [
       "1584668054"
      ]
     },
     "execution_count": 21,
     "metadata": {},
     "output_type": "execute_result"
    }
   ],
   "source": [
    "df_changemyview['created_utc'].max(axis = 0) "
   ]
  },
  {
   "cell_type": "code",
   "execution_count": 22,
   "metadata": {},
   "outputs": [
    {
     "data": {
      "text/plain": [
       "1584779209"
      ]
     },
     "execution_count": 22,
     "metadata": {},
     "output_type": "execute_result"
    }
   ],
   "source": [
    "df_askphilosophy['created_utc'].max(axis = 0) "
   ]
  },
  {
   "cell_type": "code",
   "execution_count": 23,
   "metadata": {},
   "outputs": [
    {
     "data": {
      "text/plain": [
       "1584583125"
      ]
     },
     "execution_count": 23,
     "metadata": {},
     "output_type": "execute_result"
    }
   ],
   "source": [
    "df_changemyview['created_utc'].min(axis = 0) "
   ]
  },
  {
   "cell_type": "code",
   "execution_count": 24,
   "metadata": {},
   "outputs": [],
   "source": [
    "def get_data(subreddit, after):\n",
    "    params = {\n",
    "    'subreddit' : subreddit,\n",
    "     'size' : '500',\n",
    "    'after' : after\n",
    "    }\n",
    "    \n",
    "    base_url = 'https://api.pushshift.io/reddit/search/submission'\n",
    "    res = requests.get(url, params)\n",
    "    raw_data = res.json()\n",
    "    posts = raw_data['data']\n",
    "    df = pd.DataFrame(posts)\n",
    "    return df"
   ]
  },
  {
   "cell_type": "code",
   "execution_count": 25,
   "metadata": {},
   "outputs": [],
   "source": [
    "df = get_data('askphilosophy','1584582182' )"
   ]
  },
  {
   "cell_type": "code",
   "execution_count": 26,
   "metadata": {},
   "outputs": [
    {
     "data": {
      "text/html": [
       "<div>\n",
       "<style scoped>\n",
       "    .dataframe tbody tr th:only-of-type {\n",
       "        vertical-align: middle;\n",
       "    }\n",
       "\n",
       "    .dataframe tbody tr th {\n",
       "        vertical-align: top;\n",
       "    }\n",
       "\n",
       "    .dataframe thead th {\n",
       "        text-align: right;\n",
       "    }\n",
       "</style>\n",
       "<table border=\"1\" class=\"dataframe\">\n",
       "  <thead>\n",
       "    <tr style=\"text-align: right;\">\n",
       "      <th></th>\n",
       "      <th>subreddit</th>\n",
       "      <th>selftext</th>\n",
       "      <th>title</th>\n",
       "      <th>created_utc</th>\n",
       "    </tr>\n",
       "  </thead>\n",
       "  <tbody>\n",
       "    <tr>\n",
       "      <th>0</th>\n",
       "      <td>askphilosophy</td>\n",
       "      <td>Do I understand him correctly?</td>\n",
       "      <td>As I understand it, Derrida said words and sig...</td>\n",
       "      <td>1584583608</td>\n",
       "    </tr>\n",
       "    <tr>\n",
       "      <th>1</th>\n",
       "      <td>askphilosophy</td>\n",
       "      <td></td>\n",
       "      <td>Is there such thing as objective morality?</td>\n",
       "      <td>1584585426</td>\n",
       "    </tr>\n",
       "    <tr>\n",
       "      <th>2</th>\n",
       "      <td>askphilosophy</td>\n",
       "      <td></td>\n",
       "      <td>What is more harmful, complete trust in everyt...</td>\n",
       "      <td>1584585943</td>\n",
       "    </tr>\n",
       "    <tr>\n",
       "      <th>3</th>\n",
       "      <td>askphilosophy</td>\n",
       "      <td>[removed]</td>\n",
       "      <td>Reading list for A/H Philosophy</td>\n",
       "      <td>1584593161</td>\n",
       "    </tr>\n",
       "    <tr>\n",
       "      <th>4</th>\n",
       "      <td>askphilosophy</td>\n",
       "      <td>Say for instance you post an absurd dark meme ...</td>\n",
       "      <td>can absurdist dark memes be morally justified?</td>\n",
       "      <td>1584595033</td>\n",
       "    </tr>\n",
       "    <tr>\n",
       "      <th>...</th>\n",
       "      <td>...</td>\n",
       "      <td>...</td>\n",
       "      <td>...</td>\n",
       "      <td>...</td>\n",
       "    </tr>\n",
       "    <tr>\n",
       "      <th>95</th>\n",
       "      <td>askphilosophy</td>\n",
       "      <td>I am a beginner to philosophy. I only just beg...</td>\n",
       "      <td>Can one extend Plato’s philosophy to justify t...</td>\n",
       "      <td>1584766566</td>\n",
       "    </tr>\n",
       "    <tr>\n",
       "      <th>96</th>\n",
       "      <td>askphilosophy</td>\n",
       "      <td>I read and enjoyed Martha Nussbaum's article *...</td>\n",
       "      <td>Does anyone know of any good articles interpre...</td>\n",
       "      <td>1584775339</td>\n",
       "    </tr>\n",
       "    <tr>\n",
       "      <th>97</th>\n",
       "      <td>askphilosophy</td>\n",
       "      <td>For instance, imagine I would want to give to ...</td>\n",
       "      <td>Do we have an obligation when deciding between...</td>\n",
       "      <td>1584778352</td>\n",
       "    </tr>\n",
       "    <tr>\n",
       "      <th>98</th>\n",
       "      <td>askphilosophy</td>\n",
       "      <td>So, I've read most of Kenny's History of Weste...</td>\n",
       "      <td>Amateur in philosophy and Philosophical Invest...</td>\n",
       "      <td>1584778469</td>\n",
       "    </tr>\n",
       "    <tr>\n",
       "      <th>99</th>\n",
       "      <td>askphilosophy</td>\n",
       "      <td></td>\n",
       "      <td>What did Gilles Deleuze mean when he said \"The...</td>\n",
       "      <td>1584779209</td>\n",
       "    </tr>\n",
       "  </tbody>\n",
       "</table>\n",
       "<p>100 rows × 4 columns</p>\n",
       "</div>"
      ],
      "text/plain": [
       "        subreddit                                           selftext  \\\n",
       "0   askphilosophy                     Do I understand him correctly?   \n",
       "1   askphilosophy                                                      \n",
       "2   askphilosophy                                                      \n",
       "3   askphilosophy                                          [removed]   \n",
       "4   askphilosophy  Say for instance you post an absurd dark meme ...   \n",
       "..            ...                                                ...   \n",
       "95  askphilosophy  I am a beginner to philosophy. I only just beg...   \n",
       "96  askphilosophy  I read and enjoyed Martha Nussbaum's article *...   \n",
       "97  askphilosophy  For instance, imagine I would want to give to ...   \n",
       "98  askphilosophy  So, I've read most of Kenny's History of Weste...   \n",
       "99  askphilosophy                                                      \n",
       "\n",
       "                                                title  created_utc  \n",
       "0   As I understand it, Derrida said words and sig...   1584583608  \n",
       "1          Is there such thing as objective morality?   1584585426  \n",
       "2   What is more harmful, complete trust in everyt...   1584585943  \n",
       "3                     Reading list for A/H Philosophy   1584593161  \n",
       "4      can absurdist dark memes be morally justified?   1584595033  \n",
       "..                                                ...          ...  \n",
       "95  Can one extend Plato’s philosophy to justify t...   1584766566  \n",
       "96  Does anyone know of any good articles interpre...   1584775339  \n",
       "97  Do we have an obligation when deciding between...   1584778352  \n",
       "98  Amateur in philosophy and Philosophical Invest...   1584778469  \n",
       "99  What did Gilles Deleuze mean when he said \"The...   1584779209  \n",
       "\n",
       "[100 rows x 4 columns]"
      ]
     },
     "execution_count": 26,
     "metadata": {},
     "output_type": "execute_result"
    }
   ],
   "source": [
    "df[['subreddit', 'selftext', 'title', 'created_utc']]"
   ]
  },
  {
   "cell_type": "code",
   "execution_count": 41,
   "metadata": {},
   "outputs": [],
   "source": [
    "def start_process(subreddit):\n",
    "    start_time = time.time()\n",
    "    df_final = pd.DataFrame(columns=['subreddit','selftext','title','created_utc'])\n",
    "    after = '1584583125'\n",
    "    subreddit = subreddit\n",
    "    for i in range(100):\n",
    "        print(f\" started .. {i}\")\n",
    "        df_raw = get_data(subreddit,after )\n",
    "        df_temp = df_raw[['subreddit', 'selftext', 'title', 'created_utc']]\n",
    "        df_final = df_final.append(df_temp)\n",
    "        after = df_temp['created_utc'].max(axis = 0) \n",
    "    print(\"--- %s seconds ---\" % (time.time() - start_time))\n",
    "    return df_final\n",
    "        "
   ]
  },
  {
   "cell_type": "code",
   "execution_count": 1,
   "metadata": {},
   "outputs": [],
   "source": [
    "subreddit = 'askphilosophy'\n",
    "df_final_list = start_process()\n",
    "\n",
    "subreddit = 'changemyview'\n",
    "df_final_list = start_process(subreddit)"
   ]
  },
  {
   "cell_type": "code",
   "execution_count": null,
   "metadata": {},
   "outputs": [],
   "source": [
    "df_final_list.shape"
   ]
  },
  {
   "cell_type": "code",
   "execution_count": null,
   "metadata": {},
   "outputs": [],
   "source": [
    "df_final_list.head()"
   ]
  },
  {
   "cell_type": "code",
   "execution_count": 133,
   "metadata": {},
   "outputs": [
    {
     "data": {
      "text/plain": [
       "1584971773    1\n",
       "1584921240    1\n",
       "1585410293    1\n",
       "1585765035    1\n",
       "1585783527    1\n",
       "             ..\n",
       "1585935655    1\n",
       "1584985382    1\n",
       "1585612069    1\n",
       "1584983330    1\n",
       "1585827842    1\n",
       "Name: created_utc, Length: 1000, dtype: int64"
      ]
     },
     "execution_count": 133,
     "metadata": {},
     "output_type": "execute_result"
    }
   ],
   "source": [
    "df_final_list['created_utc'].value_counts()"
   ]
  },
  {
   "cell_type": "code",
   "execution_count": 146,
   "metadata": {},
   "outputs": [],
   "source": [
    "df_final_list.to_csv(\"../data/changemyview.csv\")"
   ]
  },
  {
   "cell_type": "code",
   "execution_count": null,
   "metadata": {},
   "outputs": [],
   "source": [
    "df_final_list['url']"
   ]
  },
  {
   "cell_type": "code",
   "execution_count": null,
   "metadata": {},
   "outputs": [],
   "source": [
    "subreddit = 'askphilosophy'\n",
    "df_final_list = start_process()"
   ]
  },
  {
   "cell_type": "code",
   "execution_count": null,
   "metadata": {},
   "outputs": [],
   "source": [
    "df_final_list.to_csv(\"../data/askphilosophy.csv\")"
   ]
  }
 ],
 "metadata": {
  "kernelspec": {
   "display_name": "Python 3",
   "language": "python",
   "name": "python3"
  },
  "language_info": {
   "codemirror_mode": {
    "name": "ipython",
    "version": 3
   },
   "file_extension": ".py",
   "mimetype": "text/x-python",
   "name": "python",
   "nbconvert_exporter": "python",
   "pygments_lexer": "ipython3",
   "version": "3.8.5"
  }
 },
 "nbformat": 4,
 "nbformat_minor": 4
}
