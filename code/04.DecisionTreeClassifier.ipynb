{
 "cells": [
  {
   "cell_type": "code",
   "execution_count": 139,
   "metadata": {},
   "outputs": [],
   "source": [
    "import pandas as pd\n",
    "import requests \n",
    "import json \n",
    "import csv \n",
    "import time\n",
    "import datetime\n",
    "from sklearn.model_selection import train_test_split\n",
    "from sklearn.feature_extraction.text import CountVectorizer\n",
    "from sklearn.linear_model import LogisticRegression\n",
    "from sklearn.pipeline import make_pipeline\n",
    "from sklearn.preprocessing import StandardScaler\n",
    "from sklearn.model_selection import train_test_split\n",
    "from sklearn.dummy import DummyClassifier \n",
    "import numpy as np\n",
    "import matplotlib.pyplot as plt\n",
    "import pandas as pd\n",
    "from sklearn.tree import DecisionTreeClassifier\n",
    "from sklearn.model_selection import GridSearchCV, train_test_split, cross_val_score\n",
    "from sklearn.ensemble import RandomForestClassifier\n",
    "from sklearn.metrics import plot_confusion_matrix, confusion_matrix\n",
    "import seaborn as sns\n",
    "from sklearn.metrics import accuracy_score\n",
    "from sklearn.metrics import roc_auc_score\n",
    "from sklearn.metrics import plot_roc_curve\n",
    "\n",
    "df_p = pd.read_csv('../data/askphilosophy.csv', index_col=0)\n",
    "df_c = pd.read_csv('../data/changemyview.csv', index_col=0)\n",
    "\n",
    "df_c['title'] =  df_c['title'].replace(to_replace ='CMV: ', value = '', regex = True)\n",
    "df_c['title'] =  df_c['title'].replace(to_replace ='CMC: ', value = '', regex = True)\n",
    "df_c['title'] =  df_c['title'].replace(to_replace ='Cmv: ', value = '', regex = True)\n",
    "df_c['title'] =  df_c['title'].replace(to_replace ='cmv: ', value = '', regex = True)\n",
    "\n",
    "df = df_c.append(df_p)\n",
    "\n",
    "# df['subreddit'] = df['subreddit'].replace({'askphilosophy':0, 'changemyview': 1})\n",
    "df['subreddit'] = df['subreddit'].replace({'askphilosophy':1, 'changemyview': 0})\n",
    "\n",
    "X = df['title']\n",
    "y = df['subreddit']\n",
    "\n",
    "X_train, X_test, y_train, y_test = train_test_split(X, y, random_state = 22)"
   ]
  },
  {
   "cell_type": "code",
   "execution_count": 140,
   "metadata": {},
   "outputs": [],
   "source": [
    "pipe = make_pipeline(CountVectorizer(stop_words = 'english', max_features = 500),\n",
    "                    StandardScaler(with_mean = False),\n",
    "                    DecisionTreeClassifier())"
   ]
  },
  {
   "cell_type": "code",
   "execution_count": 141,
   "metadata": {},
   "outputs": [],
   "source": [
    "pg = {\n",
    "    #'decisiontreeclassifier__max_depth': [2, 3, 5, 7],\n",
    "    #'decisiontreeclassifier__min_samples_split': [5, 10, 15, 20], \n",
    "    'decisiontreeclassifier__min_samples_leaf': [2, 3, 4, 5, 6],\n",
    "    'decisiontreeclassifier__ccp_alpha': [0, 0.001, 0.01, 0.1, 1, 10]\n",
    "}"
   ]
  },
  {
   "cell_type": "code",
   "execution_count": 142,
   "metadata": {},
   "outputs": [
    {
     "name": "stdout",
     "output_type": "stream",
     "text": [
      "train score: 0.8768509212730319\n",
      "test score: 0.8235175879396985\n",
      "best params: {'decisiontreeclassifier__ccp_alpha': 0, 'decisiontreeclassifier__min_samples_leaf': 2}\n"
     ]
    }
   ],
   "source": [
    "gs = GridSearchCV(pipe, pg, n_jobs=-1)\n",
    "gs.fit(X_train, y_train)\n",
    "print('train score: ' + str(gs.score(X_train, y_train)))\n",
    "print('test score: ' + str(gs.score(X_test, y_test)))\n",
    "print('best params: ' + str(gs.best_params_))"
   ]
  },
  {
   "cell_type": "code",
   "execution_count": 143,
   "metadata": {},
   "outputs": [],
   "source": [
    "predics = gs.predict(X_test)"
   ]
  },
  {
   "cell_type": "code",
   "execution_count": 144,
   "metadata": {},
   "outputs": [
    {
     "name": "stdout",
     "output_type": "stream",
     "text": [
      "2192 304 574 1905\n"
     ]
    }
   ],
   "source": [
    "tn, fp, fn,tp = confusion_matrix(y_test, predics).ravel()\n",
    "print(tn, fp, fn,tp)"
   ]
  },
  {
   "cell_type": "code",
   "execution_count": 145,
   "metadata": {},
   "outputs": [
    {
     "data": {
      "text/plain": [
       "<sklearn.metrics._plot.confusion_matrix.ConfusionMatrixDisplay at 0x7fc016c2ca90>"
      ]
     },
     "execution_count": 145,
     "metadata": {},
     "output_type": "execute_result"
    },
    {
     "data": {
      "image/png": "[encoded data removed]",
      "text/plain": [
       "<Figure size 432x288 with 2 Axes>"
      ]
     },
     "metadata": {
      "needs_background": "light"
     },
     "output_type": "display_data"
    }
   ],
   "source": [
    "plot_confusion_matrix(gs, X_test,  y_test)"
   ]
  },
  {
   "cell_type": "code",
   "execution_count": 146,
   "metadata": {},
   "outputs": [
    {
     "data": {
      "image/png": "[encoded data removed]",
      "text/plain": [
       "<Figure size 432x288 with 1 Axes>"
      ]
     },
     "metadata": {
      "needs_background": "light"
     },
     "output_type": "display_data"
    }
   ],
   "source": [
    "plot_roc_curve(gs, X_test, y_test);"
   ]
  },
  {
   "cell_type": "code",
   "execution_count": 147,
   "metadata": {},
   "outputs": [
    {
     "name": "stdout",
     "output_type": "stream",
     "text": [
      " Precision: 0.8623811679492983\n",
      " Recall: 0.7684550221863655\n",
      " Specificity: 0.7684550221863655\n",
      " Balanced Accuracy: 0.8233300751957469\n",
      " Accuracy Score: 0.8235175879396985\n",
      " False Positive Rate : 0.12179487179487179\n"
     ]
    }
   ],
   "source": [
    "precision = tp / (tp+fp)\n",
    "recall = tp / (tp+fn)\n",
    "specificity = tn/(tn+fp)\n",
    "balanced_accuracy = (specificity + recall)/2\n",
    "ac = accuracy_score(y_test, predics)\n",
    "fpr = fp / (fp+tn) # False Positive Rate \n",
    "print(f\" Precision: {precision}\")\n",
    "print(f\" Recall: {recall}\")\n",
    "print(f\" Specificity: {recall}\")\n",
    "print(f\" Balanced Accuracy: {balanced_accuracy}\")\n",
    "print(f\" Accuracy Score: {ac}\")\n",
    "print(f\" False Positive Rate : {fpr}\")"
   ]
  },
  {
   "cell_type": "code",
   "execution_count": null,
   "metadata": {},
   "outputs": [],
   "source": []
  },
  {
   "cell_type": "code",
   "execution_count": null,
   "metadata": {},
   "outputs": [],
   "source": []
  },
  {
   "cell_type": "code",
   "execution_count": null,
   "metadata": {},
   "outputs": [],
   "source": []
  },
  {
   "cell_type": "code",
   "execution_count": null,
   "metadata": {},
   "outputs": [],
   "source": []
  },
  {
   "cell_type": "code",
   "execution_count": null,
   "metadata": {},
   "outputs": [],
   "source": []
  },
  {
   "cell_type": "code",
   "execution_count": null,
   "metadata": {},
   "outputs": [],
   "source": []
  },
  {
   "cell_type": "code",
   "execution_count": null,
   "metadata": {},
   "outputs": [],
   "source": []
  }
 ],
 "metadata": {
  "kernelspec": {
   "display_name": "Python 3",
   "language": "python",
   "name": "python3"
  },
  "language_info": {
   "codemirror_mode": {
    "name": "ipython",
    "version": 3
   },
   "file_extension": ".py",
   "mimetype": "text/x-python",
   "name": "python",
   "nbconvert_exporter": "python",
   "pygments_lexer": "ipython3",
   "version": "3.8.5"
  }
 },
 "nbformat": 4,
 "nbformat_minor": 4
}
