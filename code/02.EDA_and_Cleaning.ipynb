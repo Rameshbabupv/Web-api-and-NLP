{
 "cells": [
  {
   "cell_type": "code",
   "execution_count": 1,
   "metadata": {},
   "outputs": [],
   "source": [
    "import pandas as pd\n",
    "import requests \n",
    "import json \n",
    "import csv \n",
    "import time\n",
    "import datetime\n",
    "from sklearn.model_selection import train_test_split\n",
    "from sklearn.feature_extraction.text import CountVectorizer\n",
    "from sklearn.linear_model import LogisticRegression\n",
    "from sklearn.pipeline import make_pipeline\n",
    "from sklearn.preprocessing import StandardScaler\n",
    "from sklearn.model_selection import train_test_split\n",
    "from sklearn.dummy import DummyClassifier \n",
    "import numpy as np\n",
    "import matplotlib.pyplot as plt\n",
    "import pandas as pd\n",
    "from sklearn.tree import DecisionTreeClassifier\n",
    "from sklearn.model_selection import GridSearchCV, train_test_split, cross_val_score\n",
    "from sklearn.ensemble import RandomForestClassifier\n",
    "from sklearn.metrics import plot_confusion_matrix, confusion_matrix\n",
    "import seaborn as sns\n",
    "from sklearn.metrics import accuracy_score\n",
    "from sklearn.metrics import roc_auc_score"
   ]
  },
  {
   "cell_type": "code",
   "execution_count": 2,
   "metadata": {},
   "outputs": [],
   "source": [
    "df_p = pd.read_csv('../data/askphilosophy.csv', index_col=0)\n",
    "df_c = pd.read_csv('../data/changemyview.csv', index_col=0)"
   ]
  },
  {
   "cell_type": "code",
   "execution_count": 3,
   "metadata": {},
   "outputs": [
    {
     "data": {
      "text/plain": [
       "Index(['subreddit', 'selftext', 'title', 'created_utc'], dtype='object')"
      ]
     },
     "execution_count": 3,
     "metadata": {},
     "output_type": "execute_result"
    }
   ],
   "source": [
    "df_p.columns"
   ]
  },
  {
   "cell_type": "code",
   "execution_count": 4,
   "metadata": {},
   "outputs": [],
   "source": [
    "df_c['title'] =  df_c['title'].replace(to_replace ='CMV: ', value = '', regex = True)\n",
    "df_c['title'] =  df_c['title'].replace(to_replace ='CMC: ', value = '', regex = True)\n",
    "df_c['title'] =  df_c['title'].replace(to_replace ='Cmv: ', value = '', regex = True)\n",
    "df_c['title'] =  df_c['title'].replace(to_replace ='cmv: ', value = '', regex = True)"
   ]
  },
  {
   "cell_type": "code",
   "execution_count": 5,
   "metadata": {},
   "outputs": [],
   "source": [
    " df_c['title'] =  df_c['title'].replace(to_replace ='CMC: ', value = '', regex = True)"
   ]
  },
  {
   "cell_type": "code",
   "execution_count": 6,
   "metadata": {},
   "outputs": [
    {
     "data": {
      "text/plain": [
       "0     The Nintendo Wii is the best video game consol...\n",
       "1                                Lawyers rule the world\n",
       "2     There is not a rationally consistent abortion ...\n",
       "3     In the Ballad of Buster Scruggs, the quadruple...\n",
       "4     the majority of posters here have little to no...\n",
       "                            ...                        \n",
       "95    Vaccinations should not be trusted without que...\n",
       "96    The greatest threat facing the current wave of...\n",
       "97    I no longer believe China was entirely in the ...\n",
       "98    I lose respect for people who try to pull out ...\n",
       "99    The spread of racial protests in European coun...\n",
       "Name: title, Length: 9900, dtype: object"
      ]
     },
     "execution_count": 6,
     "metadata": {},
     "output_type": "execute_result"
    }
   ],
   "source": [
    " df_c['title']"
   ]
  },
  {
   "cell_type": "code",
   "execution_count": 7,
   "metadata": {},
   "outputs": [],
   "source": [
    "df_c.to_csv(\"../data/changemyview_fixed.csv\")"
   ]
  },
  {
   "cell_type": "code",
   "execution_count": 8,
   "metadata": {},
   "outputs": [],
   "source": [
    "df = df_c.append(df_p)"
   ]
  },
  {
   "cell_type": "code",
   "execution_count": 9,
   "metadata": {},
   "outputs": [
    {
     "data": {
      "text/plain": [
       "askphilosophy    0.502513\n",
       "changemyview     0.497487\n",
       "Name: subreddit, dtype: float64"
      ]
     },
     "execution_count": 9,
     "metadata": {},
     "output_type": "execute_result"
    }
   ],
   "source": [
    "df['subreddit'].value_counts(normalize=True)"
   ]
  },
  {
   "cell_type": "code",
   "execution_count": 10,
   "metadata": {},
   "outputs": [
    {
     "data": {
      "text/plain": [
       "0"
      ]
     },
     "execution_count": 10,
     "metadata": {},
     "output_type": "execute_result"
    }
   ],
   "source": [
    "# df_all.dropna()\n",
    "df['title'].isna().sum()"
   ]
  },
  {
   "cell_type": "code",
   "execution_count": 11,
   "metadata": {},
   "outputs": [
    {
     "data": {
      "text/plain": [
       "21"
      ]
     },
     "execution_count": 11,
     "metadata": {},
     "output_type": "execute_result"
    }
   ],
   "source": [
    "df.duplicated().sum()"
   ]
  },
  {
   "cell_type": "code",
   "execution_count": 12,
   "metadata": {},
   "outputs": [
    {
     "data": {
      "text/html": [
       "<div>\n",
       "<style scoped>\n",
       "    .dataframe tbody tr th:only-of-type {\n",
       "        vertical-align: middle;\n",
       "    }\n",
       "\n",
       "    .dataframe tbody tr th {\n",
       "        vertical-align: top;\n",
       "    }\n",
       "\n",
       "    .dataframe thead th {\n",
       "        text-align: right;\n",
       "    }\n",
       "</style>\n",
       "<table border=\"1\" class=\"dataframe\">\n",
       "  <thead>\n",
       "    <tr style=\"text-align: right;\">\n",
       "      <th></th>\n",
       "      <th>subreddit</th>\n",
       "      <th>selftext</th>\n",
       "      <th>title</th>\n",
       "      <th>created_utc</th>\n",
       "    </tr>\n",
       "  </thead>\n",
       "  <tbody>\n",
       "    <tr>\n",
       "      <th>13</th>\n",
       "      <td>changemyview</td>\n",
       "      <td>[removed]</td>\n",
       "      <td>In terms of punishment, life in prison is a lo...</td>\n",
       "      <td>1588380383</td>\n",
       "    </tr>\n",
       "    <tr>\n",
       "      <th>10</th>\n",
       "      <td>changemyview</td>\n",
       "      <td>[removed]</td>\n",
       "      <td>This pandemic is a good opportunity for me to ...</td>\n",
       "      <td>1588732957</td>\n",
       "    </tr>\n",
       "    <tr>\n",
       "      <th>31</th>\n",
       "      <td>askphilosophy</td>\n",
       "      <td>Why Joseph's relationship were so ephemeral? D...</td>\n",
       "      <td>Franz Kafka's \"The Trial\".</td>\n",
       "      <td>1588055762</td>\n",
       "    </tr>\n",
       "    <tr>\n",
       "      <th>48</th>\n",
       "      <td>askphilosophy</td>\n",
       "      <td>On one hand, most criticism appears completely...</td>\n",
       "      <td>Works that discuss aesthetic value and discuss...</td>\n",
       "      <td>1588378949</td>\n",
       "    </tr>\n",
       "    <tr>\n",
       "      <th>50</th>\n",
       "      <td>askphilosophy</td>\n",
       "      <td>On one hand, most criticism appears completely...</td>\n",
       "      <td>Works that discuss aesthetic value and discuss...</td>\n",
       "      <td>1588378950</td>\n",
       "    </tr>\n",
       "    <tr>\n",
       "      <th>53</th>\n",
       "      <td>askphilosophy</td>\n",
       "      <td>On one hand, most criticism appears completely...</td>\n",
       "      <td>Works that discuss aesthetic value and discuss...</td>\n",
       "      <td>1588378952</td>\n",
       "    </tr>\n",
       "    <tr>\n",
       "      <th>55</th>\n",
       "      <td>askphilosophy</td>\n",
       "      <td>On one hand, most criticism appears completely...</td>\n",
       "      <td>Works that discuss aesthetic value and discuss...</td>\n",
       "      <td>1588378980</td>\n",
       "    </tr>\n",
       "    <tr>\n",
       "      <th>56</th>\n",
       "      <td>askphilosophy</td>\n",
       "      <td>On one hand, most criticism appears completely...</td>\n",
       "      <td>Works that discuss aesthetic value and discuss...</td>\n",
       "      <td>1588378980</td>\n",
       "    </tr>\n",
       "    <tr>\n",
       "      <th>60</th>\n",
       "      <td>askphilosophy</td>\n",
       "      <td>On one hand, most criticism appears completely...</td>\n",
       "      <td>Works that discuss aesthetic value and discuss...</td>\n",
       "      <td>1588378983</td>\n",
       "    </tr>\n",
       "    <tr>\n",
       "      <th>62</th>\n",
       "      <td>askphilosophy</td>\n",
       "      <td>On one hand, most criticism appears completely...</td>\n",
       "      <td>Works that discuss aesthetic value and discuss...</td>\n",
       "      <td>1588379049</td>\n",
       "    </tr>\n",
       "    <tr>\n",
       "      <th>64</th>\n",
       "      <td>askphilosophy</td>\n",
       "      <td>On one hand, most criticism appears completely...</td>\n",
       "      <td>Works that discuss aesthetic value and discuss...</td>\n",
       "      <td>1588379050</td>\n",
       "    </tr>\n",
       "    <tr>\n",
       "      <th>66</th>\n",
       "      <td>askphilosophy</td>\n",
       "      <td>On one hand, most criticism appears completely...</td>\n",
       "      <td>Works that discuss aesthetic value and discuss...</td>\n",
       "      <td>1588379051</td>\n",
       "    </tr>\n",
       "    <tr>\n",
       "      <th>69</th>\n",
       "      <td>askphilosophy</td>\n",
       "      <td>On one hand, most criticism appears completely...</td>\n",
       "      <td>Works that discuss aesthetic value and discuss...</td>\n",
       "      <td>1588379200</td>\n",
       "    </tr>\n",
       "    <tr>\n",
       "      <th>71</th>\n",
       "      <td>askphilosophy</td>\n",
       "      <td>On one hand, most criticism appears completely...</td>\n",
       "      <td>Works that discuss aesthetic value and discuss...</td>\n",
       "      <td>1588379201</td>\n",
       "    </tr>\n",
       "    <tr>\n",
       "      <th>72</th>\n",
       "      <td>askphilosophy</td>\n",
       "      <td>On one hand, most criticism appears completely...</td>\n",
       "      <td>Works that discuss aesthetic value and discuss...</td>\n",
       "      <td>1588379201</td>\n",
       "    </tr>\n",
       "    <tr>\n",
       "      <th>74</th>\n",
       "      <td>askphilosophy</td>\n",
       "      <td>On one hand, most criticism appears completely...</td>\n",
       "      <td>Works that discuss aesthetic value and discuss...</td>\n",
       "      <td>1588379202</td>\n",
       "    </tr>\n",
       "    <tr>\n",
       "      <th>76</th>\n",
       "      <td>askphilosophy</td>\n",
       "      <td>On one hand, most criticism appears completely...</td>\n",
       "      <td>Works that discuss aesthetic value and discuss...</td>\n",
       "      <td>1588379284</td>\n",
       "    </tr>\n",
       "    <tr>\n",
       "      <th>78</th>\n",
       "      <td>askphilosophy</td>\n",
       "      <td>On one hand, most criticism appears completely...</td>\n",
       "      <td>Works that discuss aesthetic value and discuss...</td>\n",
       "      <td>1588379285</td>\n",
       "    </tr>\n",
       "    <tr>\n",
       "      <th>79</th>\n",
       "      <td>askphilosophy</td>\n",
       "      <td>On one hand, most criticism appears completely...</td>\n",
       "      <td>Works that discuss aesthetic value and discuss...</td>\n",
       "      <td>1588379285</td>\n",
       "    </tr>\n",
       "    <tr>\n",
       "      <th>80</th>\n",
       "      <td>askphilosophy</td>\n",
       "      <td>On one hand, most criticism appears completely...</td>\n",
       "      <td>Works that discuss aesthetic value and discuss...</td>\n",
       "      <td>1588379285</td>\n",
       "    </tr>\n",
       "    <tr>\n",
       "      <th>66</th>\n",
       "      <td>askphilosophy</td>\n",
       "      <td>Where do I start reading postmodern literature?</td>\n",
       "      <td>Postmodernism</td>\n",
       "      <td>1593758269</td>\n",
       "    </tr>\n",
       "  </tbody>\n",
       "</table>\n",
       "</div>"
      ],
      "text/plain": [
       "        subreddit                                           selftext  \\\n",
       "13   changemyview                                          [removed]   \n",
       "10   changemyview                                          [removed]   \n",
       "31  askphilosophy  Why Joseph's relationship were so ephemeral? D...   \n",
       "48  askphilosophy  On one hand, most criticism appears completely...   \n",
       "50  askphilosophy  On one hand, most criticism appears completely...   \n",
       "53  askphilosophy  On one hand, most criticism appears completely...   \n",
       "55  askphilosophy  On one hand, most criticism appears completely...   \n",
       "56  askphilosophy  On one hand, most criticism appears completely...   \n",
       "60  askphilosophy  On one hand, most criticism appears completely...   \n",
       "62  askphilosophy  On one hand, most criticism appears completely...   \n",
       "64  askphilosophy  On one hand, most criticism appears completely...   \n",
       "66  askphilosophy  On one hand, most criticism appears completely...   \n",
       "69  askphilosophy  On one hand, most criticism appears completely...   \n",
       "71  askphilosophy  On one hand, most criticism appears completely...   \n",
       "72  askphilosophy  On one hand, most criticism appears completely...   \n",
       "74  askphilosophy  On one hand, most criticism appears completely...   \n",
       "76  askphilosophy  On one hand, most criticism appears completely...   \n",
       "78  askphilosophy  On one hand, most criticism appears completely...   \n",
       "79  askphilosophy  On one hand, most criticism appears completely...   \n",
       "80  askphilosophy  On one hand, most criticism appears completely...   \n",
       "66  askphilosophy    Where do I start reading postmodern literature?   \n",
       "\n",
       "                                                title  created_utc  \n",
       "13  In terms of punishment, life in prison is a lo...   1588380383  \n",
       "10  This pandemic is a good opportunity for me to ...   1588732957  \n",
       "31                         Franz Kafka's \"The Trial\".   1588055762  \n",
       "48  Works that discuss aesthetic value and discuss...   1588378949  \n",
       "50  Works that discuss aesthetic value and discuss...   1588378950  \n",
       "53  Works that discuss aesthetic value and discuss...   1588378952  \n",
       "55  Works that discuss aesthetic value and discuss...   1588378980  \n",
       "56  Works that discuss aesthetic value and discuss...   1588378980  \n",
       "60  Works that discuss aesthetic value and discuss...   1588378983  \n",
       "62  Works that discuss aesthetic value and discuss...   1588379049  \n",
       "64  Works that discuss aesthetic value and discuss...   1588379050  \n",
       "66  Works that discuss aesthetic value and discuss...   1588379051  \n",
       "69  Works that discuss aesthetic value and discuss...   1588379200  \n",
       "71  Works that discuss aesthetic value and discuss...   1588379201  \n",
       "72  Works that discuss aesthetic value and discuss...   1588379201  \n",
       "74  Works that discuss aesthetic value and discuss...   1588379202  \n",
       "76  Works that discuss aesthetic value and discuss...   1588379284  \n",
       "78  Works that discuss aesthetic value and discuss...   1588379285  \n",
       "79  Works that discuss aesthetic value and discuss...   1588379285  \n",
       "80  Works that discuss aesthetic value and discuss...   1588379285  \n",
       "66                                      Postmodernism   1593758269  "
      ]
     },
     "execution_count": 12,
     "metadata": {},
     "output_type": "execute_result"
    }
   ],
   "source": [
    "df[df.duplicated()].head(21)"
   ]
  },
  {
   "cell_type": "code",
   "execution_count": 13,
   "metadata": {},
   "outputs": [],
   "source": [
    "df.drop_duplicates(inplace=True)"
   ]
  },
  {
   "cell_type": "code",
   "execution_count": 14,
   "metadata": {},
   "outputs": [
    {
     "data": {
      "text/plain": [
       "(19879, 4)"
      ]
     },
     "execution_count": 14,
     "metadata": {},
     "output_type": "execute_result"
    }
   ],
   "source": [
    "df.shape"
   ]
  },
  {
   "cell_type": "code",
   "execution_count": 15,
   "metadata": {},
   "outputs": [],
   "source": [
    "#X = df.drop(columns='subreddit')\n",
    "X = df['title']\n",
    "y = df['subreddit']"
   ]
  },
  {
   "cell_type": "code",
   "execution_count": 16,
   "metadata": {},
   "outputs": [],
   "source": [
    "X_train, X_test, y_train, y_test = train_test_split(X, y, stratify=y, random_state=2)"
   ]
  },
  {
   "cell_type": "code",
   "execution_count": 17,
   "metadata": {},
   "outputs": [],
   "source": [
    "cvect = CountVectorizer(stop_words='english', max_features=500)"
   ]
  },
  {
   "cell_type": "code",
   "execution_count": 18,
   "metadata": {},
   "outputs": [],
   "source": [
    "X_vect = cvect.fit_transform(X)"
   ]
  },
  {
   "cell_type": "code",
   "execution_count": 19,
   "metadata": {},
   "outputs": [],
   "source": [
    "dtm = pd.DataFrame(X_vect.toarray(), columns=cvect.get_feature_names())"
   ]
  },
  {
   "cell_type": "code",
   "execution_count": 20,
   "metadata": {},
   "outputs": [
    {
     "data": {
      "text/plain": [
       "people        1538\n",
       "philosophy    1329\n",
       "does           995\n",
       "good           711\n",
       "life           536\n",
       "              ... \n",
       "feel           130\n",
       "important      129\n",
       "term           129\n",
       "different      129\n",
       "china          128\n",
       "Length: 130, dtype: int64"
      ]
     },
     "execution_count": 20,
     "metadata": {},
     "output_type": "execute_result"
    }
   ],
   "source": [
    "dtm.sum().sort_values(ascending=False).head(130)"
   ]
  },
  {
   "cell_type": "code",
   "execution_count": 21,
   "metadata": {},
   "outputs": [
    {
     "data": {
      "text/plain": [
       "<AxesSubplot:>"
      ]
     },
     "execution_count": 21,
     "metadata": {},
     "output_type": "execute_result"
    },
    {
     "data": {
      "image/png": "[encoded data removed]",
      "text/plain": [
       "<Figure size 432x288 with 1 Axes>"
      ]
     },
     "metadata": {
      "needs_background": "light"
     },
     "output_type": "display_data"
    }
   ],
   "source": [
    "dtm.sum().sort_values(ascending=False).head(20).plot(kind='bar')"
   ]
  },
  {
   "cell_type": "code",
   "execution_count": 22,
   "metadata": {},
   "outputs": [],
   "source": [
    "cvect_nostop = CountVectorizer(stop_words='english')"
   ]
  },
  {
   "cell_type": "code",
   "execution_count": 23,
   "metadata": {},
   "outputs": [],
   "source": [
    "X_nostop = cvect_nostop.fit_transform(X)"
   ]
  },
  {
   "cell_type": "code",
   "execution_count": 24,
   "metadata": {},
   "outputs": [],
   "source": [
    "#function for top words given X_vect, vectorizer\n",
    "def top_words(X, vect):\n",
    "    dtm = pd.DataFrame(X.toarray(), columns = vect.get_feature_names())\n",
    "    return dtm.sum().sort_values(ascending = False).head(10)"
   ]
  },
  {
   "cell_type": "code",
   "execution_count": 25,
   "metadata": {},
   "outputs": [],
   "source": [
    "#examine the results\n",
    "def bottom_words(X, vect):\n",
    "    dtm = pd.DataFrame(X.toarray(), columns = vect.get_feature_names())\n",
    "    return dtm.sum().sort_values(ascending = False).tail(10)"
   ]
  },
  {
   "cell_type": "code",
   "execution_count": 26,
   "metadata": {},
   "outputs": [
    {
     "data": {
      "text/plain": [
       "people        1538\n",
       "philosophy    1329\n",
       "does           995\n",
       "good           711\n",
       "life           536\n",
       "cmv            510\n",
       "just           499\n",
       "like           465\n",
       "don            454\n",
       "think          443\n",
       "dtype: int64"
      ]
     },
     "execution_count": 26,
     "metadata": {},
     "output_type": "execute_result"
    }
   ],
   "source": [
    "top_words(X_nostop, cvect_nostop)"
   ]
  },
  {
   "cell_type": "code",
   "execution_count": 27,
   "metadata": {},
   "outputs": [
    {
     "data": {
      "text/plain": [
       "portraying      1\n",
       "portrait        1\n",
       "portland        1\n",
       "expertise       1\n",
       "expire          1\n",
       "explainable     1\n",
       "explaination    1\n",
       "pork            1\n",
       "populous        1\n",
       "kebabs          1\n",
       "dtype: int64"
      ]
     },
     "execution_count": 27,
     "metadata": {},
     "output_type": "execute_result"
    }
   ],
   "source": [
    "bottom_words(X_nostop, cvect_nostop)"
   ]
  },
  {
   "cell_type": "code",
   "execution_count": 28,
   "metadata": {},
   "outputs": [],
   "source": [
    "cvect_ngram = CountVectorizer(stop_words = 'english', max_features = 500, ngram_range=(2, 2))"
   ]
  },
  {
   "cell_type": "code",
   "execution_count": 29,
   "metadata": {},
   "outputs": [],
   "source": [
    "X_bigram = cvect_ngram.fit_transform(X)"
   ]
  },
  {
   "cell_type": "code",
   "execution_count": 30,
   "metadata": {},
   "outputs": [
    {
     "data": {
      "text/plain": [
       "covid 19            149\n",
       "united states       116\n",
       "george floyd        116\n",
       "police brutality     83\n",
       "lives matter         81\n",
       "white people         80\n",
       "black people         74\n",
       "social media         74\n",
       "black lives          71\n",
       "does mean            56\n",
       "dtype: int64"
      ]
     },
     "execution_count": 30,
     "metadata": {},
     "output_type": "execute_result"
    }
   ],
   "source": [
    "top_words(X_bigram, cvect_ngram)"
   ]
  },
  {
   "cell_type": "code",
   "execution_count": 31,
   "metadata": {},
   "outputs": [
    {
     "data": {
      "text/plain": [
       "science anti             7\n",
       "say respect              7\n",
       "conducted new            7\n",
       "philosophy major         7\n",
       "philosophy math          7\n",
       "casual sex               7\n",
       "cancel culture           7\n",
       "book recommendation      7\n",
       "political correctness    7\n",
       "research conducted       7\n",
       "dtype: int64"
      ]
     },
     "execution_count": 31,
     "metadata": {},
     "output_type": "execute_result"
    }
   ],
   "source": [
    "bottom_words(X_bigram, cvect_ngram)"
   ]
  },
  {
   "cell_type": "code",
   "execution_count": null,
   "metadata": {},
   "outputs": [],
   "source": []
  }
 ],
 "metadata": {
  "kernelspec": {
   "display_name": "Python 3",
   "language": "python",
   "name": "python3"
  },
  "language_info": {
   "codemirror_mode": {
    "name": "ipython",
    "version": 3
   },
   "file_extension": ".py",
   "mimetype": "text/x-python",
   "name": "python",
   "nbconvert_exporter": "python",
   "pygments_lexer": "ipython3",
   "version": "3.8.5"
  }
 },
 "nbformat": 4,
 "nbformat_minor": 4
}
